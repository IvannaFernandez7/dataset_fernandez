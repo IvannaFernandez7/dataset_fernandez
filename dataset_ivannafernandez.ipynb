{
  "nbformat": 4,
  "nbformat_minor": 0,
  "metadata": {
    "colab": {
      "provenance": [],
      "authorship_tag": "ABX9TyOtzhN5m1Uzyf+yHXyVdwub",
      "include_colab_link": true
    },
    "kernelspec": {
      "name": "python3",
      "display_name": "Python 3"
    },
    "language_info": {
      "name": "python"
    }
  },
  "cells": [
    {
      "cell_type": "markdown",
      "metadata": {
        "id": "view-in-github",
        "colab_type": "text"
      },
      "source": [
        "<a href=\"https://colab.research.google.com/github/IvannaFernandez7/dataset_fernandez/blob/main/dataset_ivannafernandez.ipynb\" target=\"_parent\"><img src=\"https://colab.research.google.com/assets/colab-badge.svg\" alt=\"Open In Colab\"/></a>"
      ]
    },
    {
      "cell_type": "code",
      "execution_count": 1,
      "metadata": {
        "id": "RvYkKcekVY9l"
      },
      "outputs": [],
      "source": [
        "\n",
        "import pandas as pd\n",
        "import numpy as np\n",
        "import io\n",
        "import matplotlib.pyplot as plt\n",
        "from matplotlib.patches import Rectangle"
      ]
    },
    {
      "cell_type": "markdown",
      "source": [
        "HOTEL RESERVATIONS\n",
        "\n",
        "Variables relevantes:\n",
        "\n",
        "Booking_ID avg price perroom booking_status\n",
        "\n",
        "Considero que estas son las variables más relevantes para identificar una habitación y una reserva, de todos modos el objetivo de este data set es poder determinar cuales son los motivos por los cuales un cliente cancela una reserva, por lo tanto es fundamental evaluar también el resto de las variables para adquirir información de interés a la hora de analizr los datos.\n",
        "\n",
        "BODY PERFORMANCE\n",
        "\n",
        "Variables relevantes:\n",
        "\n",
        "Edad Altura Sexo Peso\n",
        "\n",
        "Considero que en el campo de la nutrición son relevantes las variables mencionadas, ya que con estas en el dataset seleccionado podremos calcular/ determinar otros datos relevantes para evaluar el rendimiento corporal y por ende poder generar un diagnóstico de pacientes o futuras gráficas\n",
        "\n",
        "*MELB_DATA*\n",
        "\n",
        "Variables relevantes:\n",
        "\n",
        "Adress Price Landsize\n",
        "\n",
        "Con estas variables podemos determinar el tamaño que tiene cada propiedad en la cuidad de Melrbourne"
      ],
      "metadata": {
        "id": "SeMnQKqKRmZu"
      }
    },
    {
      "cell_type": "code",
      "source": [
        "df = pd.read_csv(\"../content/sample_data/Hotel Reservations.csv\")\n",
        "\n",
        "df.shape\n",
        "df.tail"
      ],
      "metadata": {
        "colab": {
          "base_uri": "https://localhost:8080/"
        },
        "id": "L_oaVNc9RoJ9",
        "outputId": "7c5b7b5a-4ddc-430e-cfa3-e6f3441c86b8"
      },
      "execution_count": 5,
      "outputs": [
        {
          "output_type": "execute_result",
          "data": {
            "text/plain": [
              "<bound method NDFrame.tail of       Booking_ID  no_of_adults  no_of_children  no_of_weekend_nights  \\\n",
              "0       INN00001             2               0                     1   \n",
              "1       INN00002             2               0                     2   \n",
              "2       INN00003             1               0                     2   \n",
              "3       INN00004             2               0                     0   \n",
              "4       INN00005             2               0                     1   \n",
              "...          ...           ...             ...                   ...   \n",
              "36270   INN36271             3               0                     2   \n",
              "36271   INN36272             2               0                     1   \n",
              "36272   INN36273             2               0                     2   \n",
              "36273   INN36274             2               0                     0   \n",
              "36274   INN36275             2               0                     1   \n",
              "\n",
              "       no_of_week_nights type_of_meal_plan  required_car_parking_space  \\\n",
              "0                      2       Meal Plan 1                           0   \n",
              "1                      3      Not Selected                           0   \n",
              "2                      1       Meal Plan 1                           0   \n",
              "3                      2       Meal Plan 1                           0   \n",
              "4                      1      Not Selected                           0   \n",
              "...                  ...               ...                         ...   \n",
              "36270                  6       Meal Plan 1                           0   \n",
              "36271                  3       Meal Plan 1                           0   \n",
              "36272                  6       Meal Plan 1                           0   \n",
              "36273                  3      Not Selected                           0   \n",
              "36274                  2       Meal Plan 1                           0   \n",
              "\n",
              "      room_type_reserved  lead_time  arrival_year  arrival_month  \\\n",
              "0            Room_Type 1        224          2017             10   \n",
              "1            Room_Type 1          5          2018             11   \n",
              "2            Room_Type 1          1          2018              2   \n",
              "3            Room_Type 1        211          2018              5   \n",
              "4            Room_Type 1         48          2018              4   \n",
              "...                  ...        ...           ...            ...   \n",
              "36270        Room_Type 4         85          2018              8   \n",
              "36271        Room_Type 1        228          2018             10   \n",
              "36272        Room_Type 1        148          2018              7   \n",
              "36273        Room_Type 1         63          2018              4   \n",
              "36274        Room_Type 1        207          2018             12   \n",
              "\n",
              "       arrival_date market_segment_type  repeated_guest  \\\n",
              "0                 2             Offline               0   \n",
              "1                 6              Online               0   \n",
              "2                28              Online               0   \n",
              "3                20              Online               0   \n",
              "4                11              Online               0   \n",
              "...             ...                 ...             ...   \n",
              "36270             3              Online               0   \n",
              "36271            17              Online               0   \n",
              "36272             1              Online               0   \n",
              "36273            21              Online               0   \n",
              "36274            30             Offline               0   \n",
              "\n",
              "       no_of_previous_cancellations  no_of_previous_bookings_not_canceled  \\\n",
              "0                                 0                                     0   \n",
              "1                                 0                                     0   \n",
              "2                                 0                                     0   \n",
              "3                                 0                                     0   \n",
              "4                                 0                                     0   \n",
              "...                             ...                                   ...   \n",
              "36270                             0                                     0   \n",
              "36271                             0                                     0   \n",
              "36272                             0                                     0   \n",
              "36273                             0                                     0   \n",
              "36274                             0                                     0   \n",
              "\n",
              "       avg_price_per_room  no_of_special_requests booking_status  \n",
              "0                   65.00                       0   Not_Canceled  \n",
              "1                  106.68                       1   Not_Canceled  \n",
              "2                   60.00                       0       Canceled  \n",
              "3                  100.00                       0       Canceled  \n",
              "4                   94.50                       0       Canceled  \n",
              "...                   ...                     ...            ...  \n",
              "36270              167.80                       1   Not_Canceled  \n",
              "36271               90.95                       2       Canceled  \n",
              "36272               98.39                       2   Not_Canceled  \n",
              "36273               94.50                       0       Canceled  \n",
              "36274              161.67                       0   Not_Canceled  \n",
              "\n",
              "[36275 rows x 19 columns]>"
            ]
          },
          "metadata": {},
          "execution_count": 5
        }
      ]
    },
    {
      "cell_type": "code",
      "source": [
        "#@title Texto de título predeterminado\n",
        "df.head"
      ],
      "metadata": {
        "colab": {
          "base_uri": "https://localhost:8080/"
        },
        "id": "cVa8eEkTSF7m",
        "outputId": "e8fdee50-ba01-4801-ef96-b6a40bcb2984"
      },
      "execution_count": 6,
      "outputs": [
        {
          "output_type": "execute_result",
          "data": {
            "text/plain": [
              "<bound method NDFrame.head of       Booking_ID  no_of_adults  no_of_children  no_of_weekend_nights  \\\n",
              "0       INN00001             2               0                     1   \n",
              "1       INN00002             2               0                     2   \n",
              "2       INN00003             1               0                     2   \n",
              "3       INN00004             2               0                     0   \n",
              "4       INN00005             2               0                     1   \n",
              "...          ...           ...             ...                   ...   \n",
              "36270   INN36271             3               0                     2   \n",
              "36271   INN36272             2               0                     1   \n",
              "36272   INN36273             2               0                     2   \n",
              "36273   INN36274             2               0                     0   \n",
              "36274   INN36275             2               0                     1   \n",
              "\n",
              "       no_of_week_nights type_of_meal_plan  required_car_parking_space  \\\n",
              "0                      2       Meal Plan 1                           0   \n",
              "1                      3      Not Selected                           0   \n",
              "2                      1       Meal Plan 1                           0   \n",
              "3                      2       Meal Plan 1                           0   \n",
              "4                      1      Not Selected                           0   \n",
              "...                  ...               ...                         ...   \n",
              "36270                  6       Meal Plan 1                           0   \n",
              "36271                  3       Meal Plan 1                           0   \n",
              "36272                  6       Meal Plan 1                           0   \n",
              "36273                  3      Not Selected                           0   \n",
              "36274                  2       Meal Plan 1                           0   \n",
              "\n",
              "      room_type_reserved  lead_time  arrival_year  arrival_month  \\\n",
              "0            Room_Type 1        224          2017             10   \n",
              "1            Room_Type 1          5          2018             11   \n",
              "2            Room_Type 1          1          2018              2   \n",
              "3            Room_Type 1        211          2018              5   \n",
              "4            Room_Type 1         48          2018              4   \n",
              "...                  ...        ...           ...            ...   \n",
              "36270        Room_Type 4         85          2018              8   \n",
              "36271        Room_Type 1        228          2018             10   \n",
              "36272        Room_Type 1        148          2018              7   \n",
              "36273        Room_Type 1         63          2018              4   \n",
              "36274        Room_Type 1        207          2018             12   \n",
              "\n",
              "       arrival_date market_segment_type  repeated_guest  \\\n",
              "0                 2             Offline               0   \n",
              "1                 6              Online               0   \n",
              "2                28              Online               0   \n",
              "3                20              Online               0   \n",
              "4                11              Online               0   \n",
              "...             ...                 ...             ...   \n",
              "36270             3              Online               0   \n",
              "36271            17              Online               0   \n",
              "36272             1              Online               0   \n",
              "36273            21              Online               0   \n",
              "36274            30             Offline               0   \n",
              "\n",
              "       no_of_previous_cancellations  no_of_previous_bookings_not_canceled  \\\n",
              "0                                 0                                     0   \n",
              "1                                 0                                     0   \n",
              "2                                 0                                     0   \n",
              "3                                 0                                     0   \n",
              "4                                 0                                     0   \n",
              "...                             ...                                   ...   \n",
              "36270                             0                                     0   \n",
              "36271                             0                                     0   \n",
              "36272                             0                                     0   \n",
              "36273                             0                                     0   \n",
              "36274                             0                                     0   \n",
              "\n",
              "       avg_price_per_room  no_of_special_requests booking_status  \n",
              "0                   65.00                       0   Not_Canceled  \n",
              "1                  106.68                       1   Not_Canceled  \n",
              "2                   60.00                       0       Canceled  \n",
              "3                  100.00                       0       Canceled  \n",
              "4                   94.50                       0       Canceled  \n",
              "...                   ...                     ...            ...  \n",
              "36270              167.80                       1   Not_Canceled  \n",
              "36271               90.95                       2       Canceled  \n",
              "36272               98.39                       2   Not_Canceled  \n",
              "36273               94.50                       0       Canceled  \n",
              "36274              161.67                       0   Not_Canceled  \n",
              "\n",
              "[36275 rows x 19 columns]>"
            ]
          },
          "metadata": {},
          "execution_count": 6
        }
      ]
    },
    {
      "cell_type": "code",
      "source": [
        "df1 = pd.read_csv(\"..//content/sample_data/melb_data.csv\")\n",
        "df1.shape\n",
        "df1.tail\n",
        "df1.head"
      ],
      "metadata": {
        "colab": {
          "base_uri": "https://localhost:8080/"
        },
        "id": "ulKmjIUNSNZN",
        "outputId": "d26a4e9a-7a3a-46af-8d33-8db34a00147f"
      },
      "execution_count": 11,
      "outputs": [
        {
          "output_type": "execute_result",
          "data": {
            "text/plain": [
              "<bound method NDFrame.head of               Suburb           Address  Rooms Type      Price Method  \\\n",
              "0         Abbotsford      85 Turner St      2    h  1480000.0      S   \n",
              "1         Abbotsford   25 Bloomburg St      2    h  1035000.0      S   \n",
              "2         Abbotsford      5 Charles St      3    h  1465000.0     SP   \n",
              "3         Abbotsford  40 Federation La      3    h   850000.0     PI   \n",
              "4         Abbotsford       55a Park St      4    h  1600000.0     VB   \n",
              "...              ...               ...    ...  ...        ...    ...   \n",
              "13575  Wheelers Hill      12 Strada Cr      4    h  1245000.0      S   \n",
              "13576   Williamstown     77 Merrett Dr      3    h  1031000.0     SP   \n",
              "13577   Williamstown       83 Power St      3    h  1170000.0      S   \n",
              "13578   Williamstown      96 Verdon St      4    h  2500000.0     PI   \n",
              "13579     Yarraville        6 Agnes St      4    h  1285000.0     SP   \n",
              "\n",
              "        SellerG        Date  Distance  Postcode  ...  Bathroom  Car  Landsize  \\\n",
              "0        Biggin   3/12/2016       2.5    3067.0  ...       1.0  1.0     202.0   \n",
              "1        Biggin   4/02/2016       2.5    3067.0  ...       1.0  0.0     156.0   \n",
              "2        Biggin   4/03/2017       2.5    3067.0  ...       2.0  0.0     134.0   \n",
              "3        Biggin   4/03/2017       2.5    3067.0  ...       2.0  1.0      94.0   \n",
              "4        Nelson   4/06/2016       2.5    3067.0  ...       1.0  2.0     120.0   \n",
              "...         ...         ...       ...       ...  ...       ...  ...       ...   \n",
              "13575     Barry  26/08/2017      16.7    3150.0  ...       2.0  2.0     652.0   \n",
              "13576  Williams  26/08/2017       6.8    3016.0  ...       2.0  2.0     333.0   \n",
              "13577     Raine  26/08/2017       6.8    3016.0  ...       2.0  4.0     436.0   \n",
              "13578   Sweeney  26/08/2017       6.8    3016.0  ...       1.0  5.0     866.0   \n",
              "13579   Village  26/08/2017       6.3    3013.0  ...       1.0  1.0     362.0   \n",
              "\n",
              "       BuildingArea  YearBuilt  CouncilArea Lattitude  Longtitude  \\\n",
              "0               NaN        NaN        Yarra -37.79960   144.99840   \n",
              "1              79.0     1900.0        Yarra -37.80790   144.99340   \n",
              "2             150.0     1900.0        Yarra -37.80930   144.99440   \n",
              "3               NaN        NaN        Yarra -37.79690   144.99690   \n",
              "4             142.0     2014.0        Yarra -37.80720   144.99410   \n",
              "...             ...        ...          ...       ...         ...   \n",
              "13575           NaN     1981.0          NaN -37.90562   145.16761   \n",
              "13576         133.0     1995.0          NaN -37.85927   144.87904   \n",
              "13577           NaN     1997.0          NaN -37.85274   144.88738   \n",
              "13578         157.0     1920.0          NaN -37.85908   144.89299   \n",
              "13579         112.0     1920.0          NaN -37.81188   144.88449   \n",
              "\n",
              "                       Regionname Propertycount  \n",
              "0           Northern Metropolitan        4019.0  \n",
              "1           Northern Metropolitan        4019.0  \n",
              "2           Northern Metropolitan        4019.0  \n",
              "3           Northern Metropolitan        4019.0  \n",
              "4           Northern Metropolitan        4019.0  \n",
              "...                           ...           ...  \n",
              "13575  South-Eastern Metropolitan        7392.0  \n",
              "13576        Western Metropolitan        6380.0  \n",
              "13577        Western Metropolitan        6380.0  \n",
              "13578        Western Metropolitan        6380.0  \n",
              "13579        Western Metropolitan        6543.0  \n",
              "\n",
              "[13580 rows x 21 columns]>"
            ]
          },
          "metadata": {},
          "execution_count": 11
        }
      ]
    },
    {
      "cell_type": "code",
      "source": [
        "df2 = pd.read_csv(\"../content/sample_data/bodyPerformance.csv\")\n",
        "df2.dropna\n",
        "df2.shape\n",
        "df2.tail\n",
        "df2.head"
      ],
      "metadata": {
        "colab": {
          "base_uri": "https://localhost:8080/"
        },
        "id": "pibTpD3eSdw9",
        "outputId": "43851d49-b5df-4c37-fc3c-5fd1a7fb0d49"
      },
      "execution_count": 10,
      "outputs": [
        {
          "output_type": "execute_result",
          "data": {
            "text/plain": [
              "<bound method NDFrame.head of         age gender  height_cm  weight_kg  body fat_%  diastolic  systolic  \\\n",
              "0      27.0      M      172.3      75.24        21.3       80.0     130.0   \n",
              "1      25.0      M      165.0      55.80        15.7       77.0     126.0   \n",
              "2      31.0      M      179.6      78.00        20.1       92.0     152.0   \n",
              "3      32.0      M      174.5      71.10        18.4       76.0     147.0   \n",
              "4      28.0      M      173.8      67.70        17.1       70.0     127.0   \n",
              "...     ...    ...        ...        ...         ...        ...       ...   \n",
              "13388  25.0      M      172.1      71.80        16.2       74.0     141.0   \n",
              "13389  21.0      M      179.7      63.90        12.1       74.0     128.0   \n",
              "13390  39.0      M      177.2      80.50        20.1       78.0     132.0   \n",
              "13391  64.0      F      146.1      57.70        40.4       68.0     121.0   \n",
              "13392  34.0      M      164.0      66.10        19.5       82.0     150.0   \n",
              "\n",
              "       gripForce  sit and bend forward_cm  sit-ups counts  broad jump_cm class  \n",
              "0           54.9                     18.4            60.0          217.0     C  \n",
              "1           36.4                     16.3            53.0          229.0     A  \n",
              "2           44.8                     12.0            49.0          181.0     C  \n",
              "3           41.4                     15.2            53.0          219.0     B  \n",
              "4           43.5                     27.1            45.0          217.0     B  \n",
              "...          ...                      ...             ...            ...   ...  \n",
              "13388       35.8                     17.4            47.0          198.0     C  \n",
              "13389       33.0                      1.1            48.0          167.0     D  \n",
              "13390       63.5                     16.4            45.0          229.0     A  \n",
              "13391       19.3                      9.2             0.0           75.0     D  \n",
              "13392       35.9                      7.1            51.0          180.0     C  \n",
              "\n",
              "[13393 rows x 12 columns]>"
            ]
          },
          "metadata": {},
          "execution_count": 10
        }
      ]
    }
  ]
}