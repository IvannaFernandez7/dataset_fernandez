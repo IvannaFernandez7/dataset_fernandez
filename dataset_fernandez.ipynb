{
  "nbformat": 4,
  "nbformat_minor": 0,
  "metadata": {
    "colab": {
      "provenance": [],
      "authorship_tag": "ABX9TyPWapRX/KKMuS7vf2s9q8ox",
      "include_colab_link": true
    },
    "kernelspec": {
      "name": "python3",
      "display_name": "Python 3"
    },
    "language_info": {
      "name": "python"
    }
  },
  "cells": [
    {
      "cell_type": "markdown",
      "metadata": {
        "id": "view-in-github",
        "colab_type": "text"
      },
      "source": [
        "<a href=\"https://colab.research.google.com/github/IvannaFernandez7/dataset_fernandez/blob/main/dataset_fernandez.ipynb\" target=\"_parent\"><img src=\"https://colab.research.google.com/assets/colab-badge.svg\" alt=\"Open In Colab\"/></a>"
      ]
    },
    {
      "cell_type": "code",
      "source": [
        "import pandas as pd\n",
        "import numpy as np\n",
        "import io\n",
        "import matplotlib.pyplot as plt\n",
        "from matplotlib.patches import Rectangle\n",
        "\n",
        "\n"
      ],
      "metadata": {
        "id": "W-SCJ_2QXdK0"
      },
      "execution_count": 25,
      "outputs": []
    },
    {
      "cell_type": "markdown",
      "source": [
        "**HOTEL RESERVATIONS **\n",
        "\n",
        "Variables relevantes: \n",
        "\n",
        "Booking_ID\n",
        "avg price perroom\n",
        "booking_status\n",
        "\n",
        "Considero que estas son las variables más relevantes para identificar una habitación y una reserva, de todos modos el objetivo de este data set es poder determinar cuales son los motivos por los cuales un cliente cancela una reserva, por lo tanto es fundamental evaluar también el resto de las variables para adquirir información de interés a la hora de analizr los datos.  "
      ],
      "metadata": {
        "id": "l1mMT1nnBcnd"
      }
    },
    {
      "cell_type": "markdown",
      "source": [
        "**BODY PERFORMANCE**\n",
        "\n",
        "Variables relevantes: \n",
        "\n",
        "Edad \n",
        "Altura \n",
        "Sexo \n",
        "Peso \n",
        "\n",
        "Considero que en el campo de la nutrición son relevantes las variables mencionadas,  ya que con estas en el dataset seleccionado podremos calcular/ determinar otros datos relevantes para evaluar  el rendimiento corporal y por ende poder generar un diagnóstico de pacientes o futuras gráficas"
      ],
      "metadata": {
        "id": "nX1V7mGI2q2c"
      }
    },
    {
      "cell_type": "markdown",
      "source": [
        "***MELB_DATA***\n",
        "\n",
        "Variables relevantes:\n",
        "\n",
        "Adress\n",
        "Price \n",
        "Landsize\n",
        "\n",
        "Con estas variables podemos determinar el tamaño que tiene cada propiedad en la cuidad de Melrbourne"
      ],
      "metadata": {
        "id": "cbTF3lKODkzn"
      }
    },
    {
      "cell_type": "code",
      "source": [
        "pd.read_csv(\"../content/Hotel Reservations.csv\")\n",
        "df.shape\n"
      ],
      "metadata": {
        "colab": {
          "base_uri": "https://localhost:8080/"
        },
        "id": "4MPumfFEAo6i",
        "outputId": "f977ad25-3afc-40fc-c1b2-724befda9e2d"
      },
      "execution_count": 40,
      "outputs": [
        {
          "output_type": "execute_result",
          "data": {
            "text/plain": [
              "(13393, 12)"
            ]
          },
          "metadata": {},
          "execution_count": 40
        }
      ]
    },
    {
      "cell_type": "code",
      "source": [
        "pd.read_csv(\"../content/melb_data.csv\")\n",
        "df.shape"
      ],
      "metadata": {
        "colab": {
          "base_uri": "https://localhost:8080/"
        },
        "id": "6hDy1VEqDqu1",
        "outputId": "11ca651c-afd9-4cd3-87b8-136cb1b7d556"
      },
      "execution_count": 42,
      "outputs": [
        {
          "output_type": "execute_result",
          "data": {
            "text/plain": [
              "(13393, 12)"
            ]
          },
          "metadata": {},
          "execution_count": 42
        }
      ]
    },
    {
      "cell_type": "code",
      "source": [
        "pd.read_csv(\"../content/bodyPerformance.csv\")\n",
        "df= pd.read_csv(\"../content/bodyPerformance.csv\")\n",
        "df.dropna\n",
        "df.shape\n",
        "\n",
        "\n"
      ],
      "metadata": {
        "colab": {
          "base_uri": "https://localhost:8080/"
        },
        "id": "UUDJk9fylUnH",
        "outputId": "ddddc167-92d7-4637-a3d4-7a02cc6492c3"
      },
      "execution_count": 35,
      "outputs": [
        {
          "output_type": "execute_result",
          "data": {
            "text/plain": [
              "(13393, 12)"
            ]
          },
          "metadata": {},
          "execution_count": 35
        }
      ]
    }
  ]
}