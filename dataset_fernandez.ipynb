{
  "nbformat": 4,
  "nbformat_minor": 0,
  "metadata": {
    "colab": {
      "provenance": [],
      "authorship_tag": "ABX9TyNgzLX3p35XwfRp55amM0mQ",
      "include_colab_link": true
    },
    "kernelspec": {
      "name": "python3",
      "display_name": "Python 3"
    },
    "language_info": {
      "name": "python"
    }
  },
  "cells": [
    {
      "cell_type": "markdown",
      "metadata": {
        "id": "view-in-github",
        "colab_type": "text"
      },
      "source": [
        "<a href=\"https://colab.research.google.com/github/IvannaFernandez7/dataset_fernandez/blob/main/dataset_fernandez.ipynb\" target=\"_parent\"><img src=\"https://colab.research.google.com/assets/colab-badge.svg\" alt=\"Open In Colab\"/></a>"
      ]
    },
    {
      "cell_type": "code",
      "source": [
        "import pandas as pd\n",
        "import numpy as np\n",
        "import io\n",
        "import matplotlib.pyplot as plt\n",
        "from matplotlib.patches import Rectangle\n",
        "\n",
        "\n"
      ],
      "metadata": {
        "id": "W-SCJ_2QXdK0"
      },
      "execution_count": 3,
      "outputs": []
    },
    {
      "cell_type": "markdown",
      "source": [
        "**HOTEL RESERVATIONS **\n",
        "\n",
        "Variables relevantes: \n",
        "\n",
        "Booking_ID\n",
        "avg price perroom\n",
        "booking_status\n",
        "\n",
        "Considero que estas son las variables más relevantes para identificar una habitación y una reserva, de todos modos el objetivo de este data set es poder determinar cuales son los motivos por los cuales un cliente cancela una reserva, por lo tanto es fundamental evaluar también el resto de las variables para adquirir información de interés a la hora de analizr los datos.  "
      ],
      "metadata": {
        "id": "l1mMT1nnBcnd"
      }
    },
    {
      "cell_type": "markdown",
      "source": [
        "**BODY PERFORMANCE**\n",
        "\n",
        "Variables relevantes: \n",
        "\n",
        "Edad \n",
        "Altura \n",
        "Sexo \n",
        "Peso \n",
        "\n",
        "Considero que en el campo de la nutrición son relevantes las variables mencionadas,  ya que con estas en el dataset seleccionado podremos calcular/ determinar otros datos relevantes para evaluar  el rendimiento corporal y por ende poder generar un diagnóstico de pacientes o futuras gráficas"
      ],
      "metadata": {
        "id": "nX1V7mGI2q2c"
      }
    },
    {
      "cell_type": "markdown",
      "source": [
        "***MELB_DATA***\n",
        "\n",
        "Variables relevantes:\n",
        "\n",
        "Adress\n",
        "Price \n",
        "Landsize\n",
        "\n",
        "Con estas variables podemos determinar el tamaño que tiene cada propiedad en la cuidad de Melrbourne"
      ],
      "metadata": {
        "id": "cbTF3lKODkzn"
      }
    },
    {
      "cell_type": "code",
      "source": [
        "df = pd.read_csv(\"../content/Hotel Reservations.csv\")\n",
        "df.shape\n"
      ],
      "metadata": {
        "colab": {
          "base_uri": "https://localhost:8080/"
        },
        "id": "4MPumfFEAo6i",
        "outputId": "e94c2b24-e21e-4e1b-cca2-2cc9c539c632"
      },
      "execution_count": 5,
      "outputs": [
        {
          "output_type": "execute_result",
          "data": {
            "text/plain": [
              "(36275, 19)"
            ]
          },
          "metadata": {},
          "execution_count": 5
        }
      ]
    },
    {
      "cell_type": "code",
      "source": [
        "df1 = pd.read_csv(\"../content/melb_data.csv\")\n",
        "df.shape"
      ],
      "metadata": {
        "colab": {
          "base_uri": "https://localhost:8080/"
        },
        "id": "6hDy1VEqDqu1",
        "outputId": "89991d1a-8f45-4df8-aa1e-43493615974d"
      },
      "execution_count": 6,
      "outputs": [
        {
          "output_type": "execute_result",
          "data": {
            "text/plain": [
              "(36275, 19)"
            ]
          },
          "metadata": {},
          "execution_count": 6
        }
      ]
    },
    {
      "cell_type": "code",
      "source": [
        "df2 = pd.read_csv(\"../content/bodyPerformance.csv\")\n",
        "df= pd.read_csv(\"../content/bodyPerformance.csv\")\n",
        "df.dropna\n",
        "df.shape\n",
        "\n",
        "\n"
      ],
      "metadata": {
        "colab": {
          "base_uri": "https://localhost:8080/"
        },
        "id": "UUDJk9fylUnH",
        "outputId": "e5ede0b2-773e-4885-aaf6-ea74a094daf8"
      },
      "execution_count": 7,
      "outputs": [
        {
          "output_type": "execute_result",
          "data": {
            "text/plain": [
              "(13393, 12)"
            ]
          },
          "metadata": {},
          "execution_count": 7
        }
      ]
    }
  ]
}